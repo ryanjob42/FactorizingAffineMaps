{
 "cells": [
  {
   "cell_type": "markdown",
   "id": "3f188b2b",
   "metadata": {},
   "source": [
    "# Factorization of Affine Maps\n",
    "\n",
    "The goal of this notebook is to show the process of factorizing\n",
    "a set of affine maps which all have the same domain.\n",
    "This will produce a single map from the starting domain\n",
    "to a space described by linearly independent basis vectors\n",
    "within which all the other maps reside.\n",
    "The original maps can then be reconstructed as the composition\n",
    "of the factored map and a new map specific to each of the original maps."
   ]
  },
  {
   "cell_type": "code",
   "execution_count": 1,
   "id": "2479cbf4",
   "metadata": {
    "ExecuteTime": {
     "end_time": "2023-11-10T03:18:17.464508Z",
     "start_time": "2023-11-10T03:18:17.315238Z"
    }
   },
   "outputs": [],
   "source": [
    "from functools import reduce\n",
    "from islpy import Aff, dim_type as DimType, Id, LocalSpace, Mat, MultiAff, Space\n",
    "from typing import Dict, Generator, Iterable, List, Tuple"
   ]
  },
  {
   "cell_type": "markdown",
   "id": "162323d9",
   "metadata": {},
   "source": [
    "## Motivating Example\n",
    "\n",
    "To demonstrate the process, I will use a motivating example.\n",
    "The end goal is to incorporate this process into the AlphaZ compiler\n",
    "to manipulate the body of a reduction.\n",
    "Where I want to use this, the expressions I start with are `MultiAff`,\n",
    "which is a set of affine expressions.\n",
    "The list of these below is what I want to factorize."
   ]
  },
  {
   "cell_type": "code",
   "execution_count": 2,
   "id": "18c862bc",
   "metadata": {
    "ExecuteTime": {
     "end_time": "2023-11-10T03:18:17.492449Z",
     "start_time": "2023-11-10T03:18:17.465637Z"
    }
   },
   "outputs": [
    {
     "data": {
      "text/plain": [
       "[MultiAff(\"[N] -> { [i, j, k, l] -> [(j), (k)] }\"),\n",
       " MultiAff(\"[N] -> { [i, j, k, l] -> [(-j + k)] }\"),\n",
       " MultiAff(\"[N] -> { [i, j, k, l] -> [(j - k), (i - j - k + l)] }\")]"
      ]
     },
     "execution_count": 2,
     "metadata": {},
     "output_type": "execute_result"
    }
   ],
   "source": [
    "expressions = [\n",
    "    MultiAff('[N] -> { [i,j,k,l] -> [j,k] }'),\n",
    "    MultiAff('[N] -> { [i,j,k,l] -> [k-j] }'),\n",
    "    MultiAff('[N] -> { [i,j,k,l] -> [j-k, i-j-k+l] }')\n",
    "]\n",
    "expressions"
   ]
  },
  {
   "cell_type": "markdown",
   "id": "1fe190d5",
   "metadata": {},
   "source": [
    "## Merging the Expressions Into One\n",
    "\n",
    "The first step of this process is to merge\n",
    "these expressions into a single expression.\n",
    "The original expressions can be reconstructed\n",
    "as a projection containing only the desired dimensions.\n",
    "\n",
    "ISL does not have a function (that I'm aware of)\n",
    "which can generate the projection functions.\n",
    "Therefore, some record keeping is needed.\n",
    "To begin, I will give each output index\n",
    "from each of these expressions a unique name.\n",
    "This will allow the outputs to be tracked across\n",
    "the construction of new objects or transformation of existing ones."
   ]
  },
  {
   "cell_type": "code",
   "execution_count": 3,
   "id": "63209f24",
   "metadata": {
    "ExecuteTime": {
     "end_time": "2023-11-10T03:18:17.503573Z",
     "start_time": "2023-11-10T03:18:17.493168Z"
    }
   },
   "outputs": [
    {
     "name": "stdout",
     "output_type": "stream",
     "text": [
      "[N] -> { [i, j, k, l] -> [orig_out_1, orig_out_2] }\n",
      "[N] -> { [i, j, k, l] -> [orig_out_3] }\n",
      "[N] -> { [i, j, k, l] -> [orig_out_4, orig_out_5] }\n"
     ]
    }
   ],
   "source": [
    "def _name_generator(prefix: str) -> Generator[str, None, None]:\n",
    "    \"\"\"Generates names containing the given prefix and an incrementing value, separated by an underscore.\"\"\"\n",
    "    counter = 0\n",
    "    while True:\n",
    "        counter += 1\n",
    "        yield f'{prefix}_{counter}'\n",
    "        \n",
    "def _name_expression_outputs(expression: MultiAff, names: Iterable[str]) -> MultiAff:\n",
    "    \"\"\"Gives each output of the provided expression a unique name, overwriting any existing names.\"\"\"\n",
    "    out_count = expression.dim(DimType.out)\n",
    "    named_expr = expression\n",
    "    for i in range(out_count):\n",
    "        name = next(names)\n",
    "        named_expr = named_expr.set_dim_name(DimType.out, i, name)\n",
    "    return named_expr\n",
    "\n",
    "def _name_expression_outputs_helper(expressions: List[MultiAff]) -> Generator[MultiAff, None, None]:\n",
    "    \"\"\"Gives each output of all the provided expressions a unique name, overwriting any existing names.\"\"\"\n",
    "    names = _name_generator('orig_out')\n",
    "    for expr in expressions:\n",
    "        yield _name_expression_outputs(expr, names)\n",
    "\n",
    "def name_expression_outputs(expressions: List[MultiAff]) -> List[MultiAff]:\n",
    "    \"\"\"Gives each output of all the provided expressions a unique name, overwriting any existing names.\"\"\"\n",
    "    return list(_name_expression_outputs_helper(expressions))\n",
    "\n",
    "# Print the space for each of the expressions to show how this works.\n",
    "named_expressions = name_expression_outputs(expressions)\n",
    "for expr in named_expressions:\n",
    "    print(expr.space)"
   ]
  },
  {
   "cell_type": "markdown",
   "id": "4b05b8a2",
   "metadata": {},
   "source": [
    "Now that each output has a unique name that can be tracked,\n",
    "it's time to merge all the expressions into a single one.\n",
    "We won't worry about the projection function for now.\n",
    "With the named outputs, this can be reconstructed later."
   ]
  },
  {
   "cell_type": "code",
   "execution_count": 4,
   "id": "94139ac2",
   "metadata": {
    "ExecuteTime": {
     "end_time": "2023-11-10T03:18:17.520886Z",
     "start_time": "2023-11-10T03:18:17.504611Z"
    },
    "scrolled": true
   },
   "outputs": [
    {
     "name": "stdout",
     "output_type": "stream",
     "text": [
      "[N] -> { [i, j, k, l] -> [(j), (k), (-j + k), (j - k), (i - j - k + l)] }\n",
      "[N] -> { [i, j, k, l] -> [orig_out_1, orig_out_2, orig_out_3, orig_out_4, orig_out_5] }\n"
     ]
    }
   ],
   "source": [
    "def _merge_expressions_helper(left: MultiAff, right: MultiAff) -> MultiAff:\n",
    "    \"\"\"Merges two expressions by taking their product and flattening the result.\"\"\"\n",
    "    return left.flat_range_product(right)\n",
    "\n",
    "def merge_expressions(expressions: List[MultiAff]) -> MultiAff:\n",
    "    \"\"\"Merges a set of expressions by taking their product and flattening the result.\"\"\"\n",
    "    return reduce(_merge_expressions_helper, expressions)\n",
    "\n",
    "# Print the merged expression to show how this works.\n",
    "named_expressions = name_expression_outputs(expressions)\n",
    "merged_expressions = merge_expressions(named_expressions)\n",
    "print(merged_expressions)\n",
    "print(merged_expressions.space)"
   ]
  },
  {
   "cell_type": "markdown",
   "id": "26be6929",
   "metadata": {},
   "source": [
    "## Decomposing the Merged Expression\n",
    "\n",
    "Now, the merged expression needs to be decomposed in two.\n",
    "I will do this by converting the expression into a matrix,\n",
    "computing the Hermite normal form of this matrix,\n",
    "and reconstructing two affine expressions from the result.\n",
    "\n",
    "Note: ISL does contain functions for converting between matrices and multi-affine expressions.\n",
    "I chose not to use them here because there isn't a guarantee (that I saw)\n",
    "about the order in which the rows are returned,\n",
    "and because there would be extra columns that need to be dropped first\n",
    "then restored after calculating the Hermite normal form,\n",
    "which I think is less readable than this."
   ]
  },
  {
   "cell_type": "code",
   "execution_count": 5,
   "id": "33f0a174",
   "metadata": {
    "ExecuteTime": {
     "end_time": "2023-11-10T03:18:17.540998Z",
     "start_time": "2023-11-10T03:18:17.521687Z"
    }
   },
   "outputs": [
    {
     "name": "stdout",
     "output_type": "stream",
     "text": [
      "N\ti\tj\tk\tl\tcst\n",
      "0\t0\t1\t0\t0\t0\n",
      "0\t0\t0\t1\t0\t0\n",
      "0\t0\t-1\t1\t0\t0\n",
      "0\t0\t1\t-1\t0\t0\n",
      "0\t1\t-1\t-1\t1\t0\n"
     ]
    }
   ],
   "source": [
    "def _single_expression_to_row(expression: Aff, matrix: Mat, row: int) -> Mat:\n",
    "    \"\"\"Copies the coefficients from one expression in a multi-expression into a matrix.\"\"\"\n",
    "    updated_matrix = matrix\n",
    "\n",
    "    # Copy the parameters first.\n",
    "    param_count = expression.dim(DimType.param)\n",
    "    for i in range(param_count):\n",
    "        coefficient = expression.get_coefficient_val(DimType.param, i)\n",
    "        updated_matrix = updated_matrix.set_element_val(row, i, coefficient)\n",
    "    \n",
    "    # Then copy the inputs.\n",
    "    in_offset = param_count\n",
    "    in_count = expression.dim(DimType.in_)\n",
    "    for i in range(in_count):\n",
    "        coefficient = expression.get_coefficient_val(DimType.in_, i)\n",
    "        updated_matrix = updated_matrix.set_element_val(row, i + in_offset, coefficient)\n",
    "        \n",
    "    # Finally, copy the constant.\n",
    "    const_offset = in_offset + in_count\n",
    "    const = expression.get_constant_val()\n",
    "    updated_matrix = updated_matrix.set_element_val(row, const_offset, const)\n",
    "    \n",
    "    return updated_matrix\n",
    "\n",
    "def expression_to_matrix(expression: MultiAff) -> Mat:\n",
    "    \"\"\"\n",
    "    Converts an expression into a matrix of its parameters, input indexes, and constants.\n",
    "    Throws an error if the expression uses division, as that may not work correctly.\n",
    "    \"\"\"\n",
    "    if expression.dim(DimType.div) > 0:\n",
    "        raise Exception('Cannot convert an expression with division into a matrix.')\n",
    "        \n",
    "    # There will be one row for each of the outputs.\n",
    "    # There will be one column for each of the parameters, input indexes, and constants.\n",
    "    context = expression.get_ctx()\n",
    "    rows = expression.dim(DimType.out)\n",
    "    cols = expression.dim(DimType.param) + expression.dim(DimType.in_) + 1\n",
    "    matrix = Mat.alloc(context, rows, cols)\n",
    "\n",
    "    # Copy the rows of the matrix one at a time.\n",
    "    for i in range(rows):\n",
    "        expression_part = expression.get_at(i)\n",
    "        matrix = _single_expression_to_row(expression_part, matrix, i)\n",
    "\n",
    "    return matrix\n",
    "\n",
    "def print_matrix(matrix: Mat) -> None:\n",
    "    for row in range(matrix.rows()):\n",
    "        values = [matrix.get_element_val(row, col).to_str() for col in range(matrix.cols())]\n",
    "        line = '\\t'.join(values)\n",
    "        print(line)\n",
    "\n",
    "# Print the matrix to show how this works.\n",
    "named_expressions = name_expression_outputs(expressions)\n",
    "merged_expressions = merge_expressions(named_expressions)\n",
    "matrix = expression_to_matrix(merged_expressions)\n",
    "print('\\t'.join(['N','i','j','k','l','cst']))\n",
    "print_matrix(matrix)"
   ]
  },
  {
   "cell_type": "markdown",
   "id": "2c40e643",
   "metadata": {},
   "source": [
    "Now that we have a matrix, we can get the Hermite normal form of it.\n",
    "For my purpose, I only need the Hermite matrix it produces,\n",
    "which has linearly independent rows (similar to Gauss-Jordan elimination)\n",
    "and the inverse of the matrix that represents the elementary operations used\n",
    "to create the Hermite matrix.\n",
    "These are called `H` and `Q` respectively by ISL.\n",
    "\n",
    "I intend to use row-oriented Hermite normal form,\n",
    "but ISL implements it as column-oriented.\n",
    "These are simply transposes of each other,\n",
    "so all inputs and outputs need to be transposed.\n",
    "\n",
    "The Hermite matrix may have several rows of 0's at the end.\n",
    "These can be dropped, along with the same number of columns from the right of Q.\n",
    "Doing this will eliminate some unnecessary dimensions\n",
    "from the expressions that will be formed from these matrices."
   ]
  },
  {
   "cell_type": "code",
   "execution_count": 6,
   "id": "a73e07fa",
   "metadata": {
    "ExecuteTime": {
     "end_time": "2023-11-10T03:18:17.554655Z",
     "start_time": "2023-11-10T03:18:17.541880Z"
    }
   },
   "outputs": [
    {
     "name": "stdout",
     "output_type": "stream",
     "text": [
      "H Matrix:\n",
      "0\t1\t0\t0\t1\t0\n",
      "0\t0\t1\t0\t0\t0\n",
      "0\t0\t0\t1\t0\t0\n",
      "\n",
      "Q Matrix:\n",
      "0\t1\t0\n",
      "0\t0\t1\n",
      "0\t-1\t1\n",
      "0\t1\t-1\n",
      "1\t-1\t-1\n"
     ]
    }
   ],
   "source": [
    "def _empty_row_count(matrix: Mat) -> int:\n",
    "    \"\"\"Returns the number of empty rows at the bottom of the given matrix.\"\"\"\n",
    "    count = 0\n",
    "    for row in reversed(range(matrix.rows())):\n",
    "        for col in range(matrix.cols()):\n",
    "            coefficient = matrix.get_element_val(row, col).to_python()\n",
    "            if coefficient != 0:\n",
    "                return count\n",
    "        count += 1\n",
    "    return count\n",
    "\n",
    "def _reduce_hermite_dimensionality(h: Mat, q: Mat) -> Tuple[Mat, Mat]:\n",
    "    \"\"\"Drops any rows of 0's from the bottom of H, and the same number of columns from the right of Q.\"\"\"\n",
    "    # Per the Hermite decomposition, the nubmer of rows of H and the number of columns of Q must be equal.\n",
    "    # If this isn't the case, something went wrong.\n",
    "    if h.rows() != q.cols():\n",
    "        raise Exception(f'Error found with Hermite decomposition. H has {h.rows()} rows, and Q has {q.cols()} columns. These should be equal.')\n",
    "    \n",
    "    empty_rows = _empty_row_count(h)\n",
    "    drop_start = h.rows() - empty_rows\n",
    "\n",
    "    h_dropped = h.drop_rows(drop_start, empty_rows)\n",
    "    q_dropped = q.drop_cols(drop_start, empty_rows)\n",
    "    return h_dropped, q_dropped\n",
    "\n",
    "def hermite_decomposition(matrix: Mat) -> Tuple[Mat, Mat]:\n",
    "    \"\"\"\n",
    "    Performs the row-oriented Hermite decomposition of the given matrix,\n",
    "    returning H and Q as the two outputs (in that order).\n",
    "    Any rows of 0's have been dropped from the bottom of H,\n",
    "    along with the same number of columns from the right of Q.\n",
    "    \"\"\"\n",
    "    h, _, q = matrix.copy().transpose().left_hermite(0)\n",
    "    h_transposed = h.transpose()\n",
    "    q_transposed = q.transpose()\n",
    "    return _reduce_hermite_dimensionality(h_transposed, q_transposed)\n",
    "\n",
    "# Print the decomposed matrices to show how this works.\n",
    "named_expressions = name_expression_outputs(expressions)\n",
    "merged_expressions = merge_expressions(named_expressions)\n",
    "matrix = expression_to_matrix(merged_expressions)\n",
    "h, q = hermite_decomposition(matrix)\n",
    "\n",
    "print('H Matrix:')\n",
    "print_matrix(h)\n",
    "print()\n",
    "print('Q Matrix:')\n",
    "print_matrix(q)"
   ]
  },
  {
   "cell_type": "markdown",
   "id": "eb8c139a",
   "metadata": {},
   "source": [
    "## Constructing New Expressions from the Decomposition\n",
    "\n",
    "Now that the expression can be decomposed into two matrices,\n",
    "new expressions need to be constructed from these matrices.\n",
    "The process I'll be using is to create a `Space` in ISL for the desired maps,\n",
    "constructing the maps as `Aff` objects (single affine expressions),\n",
    "converting them to `MultiAff` objects (which have more helpful functionality),\n",
    "then merging these affine expressions together."
   ]
  },
  {
   "cell_type": "code",
   "execution_count": 7,
   "id": "a2a096fe",
   "metadata": {
    "ExecuteTime": {
     "end_time": "2023-11-10T03:18:17.581021Z",
     "start_time": "2023-11-10T03:18:17.555252Z"
    },
    "scrolled": false
   },
   "outputs": [
    {
     "name": "stdout",
     "output_type": "stream",
     "text": [
      "H: [N] -> { [i, j, k, l] -> [(i + l), (j), (k)] }\n",
      "Q: { [mid_1, mid_2, mid_3] -> [(mid_2), (mid_3), (-mid_2 + mid_3), (mid_2 - mid_3), (mid_1 - mid_2 - mid_3)] }\n",
      "\n",
      "H Space: [N] -> { [i, j, k, l] -> [mid_1, mid_2, mid_3] }\n",
      "Q Space: { [mid_1, mid_2, mid_3] -> [orig_out_1, orig_out_2, orig_out_3, orig_out_4, orig_out_5] }\n",
      "\n",
      "Original: [N] -> { [i, j, k, l] -> [(j), (k), (-j + k), (j - k), (i - j - k + l)] }\n",
      "Composed: [N] -> { [i, j, k, l] -> [(j), (k), (-j + k), (j - k), (i - j - k + l)] }\n"
     ]
    }
   ],
   "source": [
    "def _create_decomposition_spaces(original_space: Space, inner_dimensions: int) -> Tuple[Space, Space]:\n",
    "    \"\"\"\n",
    "    Creates new spaces for the decomposition of an original space.\n",
    "    The first space returned has the same domain as the original space,\n",
    "    and the second space returned has the same range as the original space.\n",
    "    \"\"\"\n",
    "    \n",
    "    # Calling space.domain() returns indexes as 'out' indexes,\n",
    "    # so reverse() is needed to make them 'in' indexes.\n",
    "    first_space = original_space.domain().reverse()\n",
    "    first_space: Space = first_space.add_dims(DimType.out, inner_dimensions)\n",
    "    \n",
    "    # The first space will handle all of the parameter inputs per the decomposition,\n",
    "    # so drop them from the second space.\n",
    "    second_space = original_space.range()\n",
    "    second_space = second_space.add_dims(DimType.in_, inner_dimensions)\n",
    "    second_space = second_space.drop_all_params()\n",
    "    \n",
    "    # Beyond constructing the spaces, we want the dimensions to have names.\n",
    "    names = _name_generator('mid')\n",
    "    for i in range(inner_dimensions):\n",
    "        name = next(names)\n",
    "        first_space = first_space.set_dim_name(DimType.out, i, name)\n",
    "        second_space = second_space.set_dim_name(DimType.in_, i, name)\n",
    "        \n",
    "    return first_space, second_space\n",
    "\n",
    "def _row_to_expression(matrix: Mat, row: int, space: Space, has_constants: bool) -> MultiAff:\n",
    "    \"\"\"Converts a row of a matrix into an expression.\"\"\"\n",
    "    \n",
    "    # Create a new affine expression from the domain of the given space.\n",
    "    # It can only represent a single output, so make it align with the output\n",
    "    # of the given space at the same index as the matrix row this is created from.\n",
    "    output_name = space.get_dim_name(DimType.out, row)\n",
    "    expression = Aff.zero_on_domain_space(space.domain())\n",
    "    \n",
    "    # Populate all the coefficients for the parameters.\n",
    "    param_count = space.dim(DimType.param)\n",
    "    for i in range(param_count):\n",
    "        coefficient = matrix.get_element_val(row, i)\n",
    "        expression = expression.set_coefficient_val(DimType.param, i, coefficient)\n",
    "        \n",
    "    # Populate all the coefficients for the input indexes.\n",
    "    in_read_offset = param_count\n",
    "    in_count = space.dim(DimType.in_)\n",
    "    for i in range(in_count):\n",
    "        coefficient = matrix.get_element_val(row, i + in_read_offset)\n",
    "        expression = expression.set_coefficient_val(DimType.in_, i, coefficient)\n",
    "        \n",
    "    # Populate the coefficient for the constant if applicable.\n",
    "    if has_constants:\n",
    "        const_offset = in_read_offset + in_count\n",
    "        const = matrix.get_element_val(row, const_offset)\n",
    "        expression = expression.set_constant_val(const)\n",
    "    \n",
    "    # Upcast the expression to the desired class.\n",
    "    expression = MultiAff.from_aff(expression)\n",
    "    expression = expression.set_dim_name(DimType.out, 0, output_name)\n",
    "    return expression\n",
    "\n",
    "def _matrix_to_expression(matrix: Mat, space: Space, has_constants: bool) -> MultiAff:\n",
    "    \"\"\"Converts a matrix into an expression. Each row is for one of the output dimensions.\"\"\"\n",
    "    expressions = [_row_to_expression(matrix, row, space, has_constants) for row in range(matrix.rows())]\n",
    "    return merge_expressions(expressions)\n",
    "\n",
    "def decompose_expression(expression: MultiAff) -> Tuple[MultiAff, MultiAff]:\n",
    "    \"\"\"Decomposes an expression using the Hermite decomposition of the matrix that represents it. Returns in the order H, Q.\"\"\"\n",
    "    \n",
    "    # Convert the expression to a matrix, then decompose that matrix.\n",
    "    matrix = expression_to_matrix(expression)\n",
    "    h_matrix, q_matrix = hermite_decomposition(matrix)\n",
    "    \n",
    "    # Construct spaces for the decomposed expressions to be in.\n",
    "    inner_dimensions = h_matrix.rows()\n",
    "    h_space, q_space = _create_decomposition_spaces(expression.space, inner_dimensions)\n",
    "    \n",
    "    # Construct the decomposed expressions.\n",
    "    # The H expression has constants, but the Q expression doesn't,\n",
    "    # as the H expression will incorporate that into the output.\n",
    "    h_expr = _matrix_to_expression(h_matrix, h_space, has_constants=True)\n",
    "    q_expr = _matrix_to_expression(q_matrix, q_space, has_constants=False)\n",
    "    return h_expr, q_expr\n",
    "\n",
    "# Print the decomposed expressions to show how this works.\n",
    "named_expressions = name_expression_outputs(expressions)\n",
    "merged_expressions = merge_expressions(named_expressions)\n",
    "h, q = decompose_expression(merged_expressions)\n",
    "\n",
    "print(f'H: {h}')\n",
    "print(f'Q: {q}')\n",
    "print()\n",
    "print(f'H Space: {h.space}')\n",
    "print(f'Q Space: {q.space}')\n",
    "print()\n",
    "print(f'Original: {merged_expressions}')\n",
    "print(f'Composed: {q.pullback_multi_aff(h)}')\n"
   ]
  },
  {
   "cell_type": "markdown",
   "id": "d750207d",
   "metadata": {},
   "source": [
    "## Reconstructing the Original Expressions\n",
    "\n",
    "Finally, the original expressions need to be reconstructed.\n",
    "In short, the outputs of Q which match the outputs of the original expressions need to be projected out."
   ]
  },
  {
   "cell_type": "code",
   "execution_count": 8,
   "id": "63c47797",
   "metadata": {
    "ExecuteTime": {
     "end_time": "2023-11-10T03:18:17.595496Z",
     "start_time": "2023-11-10T03:18:17.581638Z"
    },
    "scrolled": true
   },
   "outputs": [
    {
     "name": "stdout",
     "output_type": "stream",
     "text": [
      "Original:   [N] -> { [i, j, k, l] -> [(j), (k)] }\n",
      "Projection: { [mid_1, mid_2, mid_3] -> [(mid_2), (mid_3)] }\n",
      "Proj and H: [N] -> { [i, j, k, l] -> [(j), (k)] }\n",
      "Matches?    True\n",
      "\n",
      "Original:   [N] -> { [i, j, k, l] -> [(-j + k)] }\n",
      "Projection: { [mid_1, mid_2, mid_3] -> [(-mid_2 + mid_3)] }\n",
      "Proj and H: [N] -> { [i, j, k, l] -> [(-j + k)] }\n",
      "Matches?    True\n",
      "\n",
      "Original:   [N] -> { [i, j, k, l] -> [(j - k), (i - j - k + l)] }\n",
      "Projection: { [mid_1, mid_2, mid_3] -> [(mid_2 - mid_3), (mid_1 - mid_2 - mid_3)] }\n",
      "Proj and H: [N] -> { [i, j, k, l] -> [(j - k), (i - j - k + l)] }\n",
      "Matches?    True\n",
      "\n"
     ]
    }
   ],
   "source": [
    "def get_decomposition_projection(original: MultiAff, q: MultiAff) -> MultiAff:\n",
    "    \"\"\"\n",
    "    Returns the projection of the decomposed expression (Q)\n",
    "    which can be used to recreate the given original expression.\n",
    "    \"\"\"\n",
    "    # The range of Q will be the domain of the projection. This must be a 'LocalSpace' object.\n",
    "    proj_domain = q.space.range()\n",
    "    proj_domain = LocalSpace.from_space(proj_domain)\n",
    "    \n",
    "    # Create a dictionary from dimension names to their positions.\n",
    "    name_to_position = { proj_domain.get_dim_name(DimType.out, i) : i for i in range(proj_domain.dim(DimType.out))}\n",
    "\n",
    "    # Get the names of the output dimensions for the original expression,\n",
    "    # then use the dictionary to map those to its index in Q.\n",
    "    wanted_names = [original.get_dim_name(DimType.out, i) for i in range(original.dim(DimType.out))]\n",
    "    wanted_indexes = [name_to_position[name] for name in wanted_names]\n",
    "    \n",
    "    # Construct an affine expression for each of the projections.\n",
    "    # This is done in two steps: create it with the 'Aff' class,\n",
    "    # then convert it to the 'MultiAff' class so it's usable.\n",
    "    single_projection_exprs = [Aff.var_on_domain(proj_domain, DimType.out, i) for i in wanted_indexes]\n",
    "    projection_multi_exprs = [MultiAff.from_aff(expr) for expr in single_projection_exprs]\n",
    "    \n",
    "    # Finally, merge all the individual expressions into a single one\n",
    "    # and compose it with Q to produce the final expression.\n",
    "    merged_projection = merge_expressions(projection_multi_exprs)\n",
    "    return merged_projection.pullback_multi_aff(q)\n",
    "\n",
    "# Print the decomposed expressions to show how this works.\n",
    "named_expressions = name_expression_outputs(expressions)\n",
    "merged_expressions = merge_expressions(named_expressions)\n",
    "h, q = decompose_expression(merged_expressions)\n",
    "\n",
    "for expr in named_expressions:\n",
    "    projection = get_decomposition_projection(expr, q)\n",
    "    projection_and_h = projection.pullback_multi_aff(h)\n",
    "    print(f'Original:   {expr}')\n",
    "    print(f'Projection: {projection}')\n",
    "    print(f'Proj and H: {projection_and_h}')\n",
    "    print(f'Matches?    {expr.is_equal(projection_and_h)}')\n",
    "    print()"
   ]
  },
  {
   "cell_type": "markdown",
   "id": "d9f38e6a",
   "metadata": {},
   "source": [
    "## Putting Everything Together\n",
    "\n",
    "We now have a way to take a set of affine expressions\n",
    "which all have the same domain\n",
    "and decompose them into two expressions\n",
    "with the inner expression being common to all of them.\n",
    "This allows it to be \"factored out\",\n",
    "and this common factor's nullspace is the intersection of the nullspaces\n",
    "of the original expressions.\n",
    "\n",
    "As a last step, let's make one last function to neatly wrap all this up."
   ]
  },
  {
   "cell_type": "code",
   "execution_count": 9,
   "id": "45394839",
   "metadata": {
    "ExecuteTime": {
     "end_time": "2023-11-10T03:18:17.605505Z",
     "start_time": "2023-11-10T03:18:17.596104Z"
    }
   },
   "outputs": [],
   "source": [
    "def factor_expressions(expressions: List[MultiAff]) -> Tuple[MultiAff, Dict[MultiAff, MultiAff]]:\n",
    "    \"\"\"\n",
    "    Factors a set of affine expressions which have the same domain.\n",
    "\n",
    "    Args:\n",
    "        expressions: A list of affine expressions with the same domain.\n",
    "\n",
    "    Returns:\n",
    "        A tuple of two things.\n",
    "        The first is the \"common factor\" expression that was pulled out.\n",
    "        The second is a dictionary mapping the original expressions\n",
    "        to the new expressions which, when composed with the \"common factor\",\n",
    "        reproduce the original expression.\n",
    "    \"\"\"\n",
    "    \n",
    "    # Name all the dimensions of the expressions so they can be tracked,\n",
    "    # merge them into a single expression containing all the subexpressions,\n",
    "    # then decompose that merged expression.\n",
    "    named_expressions = name_expression_outputs(expressions)\n",
    "    merged_expressions = merge_expressions(named_expressions)\n",
    "    h, q = decompose_expression(merged_expressions)\n",
    "    \n",
    "    # Construct a map from the original expressions to the projection of Q\n",
    "    # which recreates the original expression when composed with H.\n",
    "    projection_map = { expr: get_decomposition_projection(expr, q) for expr in named_expressions }\n",
    "    return h, projection_map\n",
    "\n",
    "def verify_projections(common_factor: MultiAff, original_to_projection_map: Dict[MultiAff, MultiAff]) -> bool:\n",
    "    \"\"\"Returns True if the factorization can correctly reproduce the original expressions, and False otherwise.\"\"\"\n",
    "    for original, projection in original_to_projection_map.items():\n",
    "        factorization_composition = projection.copy().pullback_multi_aff(common_factor.copy())\n",
    "        if not original.is_equal(factorization_composition):\n",
    "            return False\n",
    "    return True"
   ]
  },
  {
   "cell_type": "code",
   "execution_count": 10,
   "id": "ab1faa52",
   "metadata": {
    "ExecuteTime": {
     "end_time": "2023-11-10T03:18:17.617945Z",
     "start_time": "2023-11-10T03:18:17.606529Z"
    }
   },
   "outputs": [
    {
     "data": {
      "text/plain": [
       "[MultiAff(\"[N] -> { [i, j, k, l] -> [(j), (k)] }\"),\n",
       " MultiAff(\"[N] -> { [i, j, k, l] -> [(-j + k)] }\"),\n",
       " MultiAff(\"[N] -> { [i, j, k, l] -> [(j - k), (i - j - k + l)] }\")]"
      ]
     },
     "execution_count": 10,
     "metadata": {},
     "output_type": "execute_result"
    }
   ],
   "source": [
    "expressions"
   ]
  },
  {
   "cell_type": "code",
   "execution_count": 11,
   "id": "08ae4351",
   "metadata": {
    "ExecuteTime": {
     "end_time": "2023-11-10T03:18:17.625957Z",
     "start_time": "2023-11-10T03:18:17.618513Z"
    }
   },
   "outputs": [
    {
     "name": "stdout",
     "output_type": "stream",
     "text": [
      "It works!\n"
     ]
    }
   ],
   "source": [
    "# One last sanity check that everything is working.\n",
    "expressions = [\n",
    "    MultiAff('[N] -> { [i,j,k,l] -> [j,k] }'),\n",
    "    MultiAff('[N] -> { [i,j,k,l] -> [k-j] }'),\n",
    "    MultiAff('[N] -> { [i,j,k,l] -> [j-k, i-j-k+l] }')\n",
    "]\n",
    "common_factor, original_to_projection_map = factor_expressions(expressions)\n",
    "working = verify_projections(common_factor, original_to_projection_map)\n",
    "\n",
    "if working:\n",
    "    print('It works!')\n",
    "else:\n",
    "    print('Something went wrong.')"
   ]
  },
  {
   "cell_type": "code",
   "execution_count": 12,
   "id": "c2f2a41e",
   "metadata": {
    "ExecuteTime": {
     "end_time": "2023-11-10T03:18:17.635519Z",
     "start_time": "2023-11-10T03:18:17.626548Z"
    },
    "scrolled": true
   },
   "outputs": [
    {
     "name": "stdout",
     "output_type": "stream",
     "text": [
      "[N] -> { [i, j, k, l] -> [(i + l), (j), (k)] }\n"
     ]
    }
   ],
   "source": [
    "print(common_factor)"
   ]
  },
  {
   "cell_type": "code",
   "execution_count": 13,
   "id": "402046e0",
   "metadata": {
    "ExecuteTime": {
     "end_time": "2023-11-10T03:18:17.645048Z",
     "start_time": "2023-11-10T03:18:17.636134Z"
    }
   },
   "outputs": [
    {
     "name": "stdout",
     "output_type": "stream",
     "text": [
      "Original:  [N] -> { [i, j, k, l] -> [(j), (k)] }\n",
      "Projected: { [mid_1, mid_2, mid_3] -> [(mid_2), (mid_3)] }\n",
      "\n",
      "Original:  [N] -> { [i, j, k, l] -> [(-j + k)] }\n",
      "Projected: { [mid_1, mid_2, mid_3] -> [(-mid_2 + mid_3)] }\n",
      "\n",
      "Original:  [N] -> { [i, j, k, l] -> [(j - k), (i - j - k + l)] }\n",
      "Projected: { [mid_1, mid_2, mid_3] -> [(mid_2 - mid_3), (mid_1 - mid_2 - mid_3)] }\n",
      "\n"
     ]
    }
   ],
   "source": [
    "for original, projection in original_to_projection_map.items():\n",
    "    print(f'Original:  {original}')\n",
    "    print(f'Projected: {projection}')\n",
    "    print()"
   ]
  }
 ],
 "metadata": {
  "kernelspec": {
   "display_name": "Python 3 (ipykernel)",
   "language": "python",
   "name": "python3"
  },
  "language_info": {
   "codemirror_mode": {
    "name": "ipython",
    "version": 3
   },
   "file_extension": ".py",
   "mimetype": "text/x-python",
   "name": "python",
   "nbconvert_exporter": "python",
   "pygments_lexer": "ipython3",
   "version": "3.9.16"
  }
 },
 "nbformat": 4,
 "nbformat_minor": 5
}
